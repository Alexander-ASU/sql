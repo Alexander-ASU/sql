{
 "cells": [
  {
   "cell_type": "code",
   "execution_count": 22,
   "metadata": {},
   "outputs": [],
   "source": [
    "data = [\n",
    "[13, 25, 23, 34],\n",
    "[45, 32, 44, 47],\n",
    "[12, 33, 23, 95],\n",
    "[13, 53, 34, 35],\n",
    "]\n",
    "\n",
    "def sum_diag (matrix):\n",
    "    buf = 0\n",
    "    total_sum = 0\n",
    "    for sep in range(len(data)):\n",
    "        total_sum += matrix[sep][buf]\n",
    "        buf+=1\n",
    "    return(total_sum)"
   ]
  },
  {
   "cell_type": "code",
   "execution_count": 23,
   "metadata": {},
   "outputs": [
    {
     "data": {
      "text/plain": [
       "103"
      ]
     },
     "execution_count": 23,
     "metadata": {},
     "output_type": "execute_result"
    }
   ],
   "source": [
    "sum_diag(data)"
   ]
  },
  {
   "cell_type": "code",
   "execution_count": 24,
   "metadata": {},
   "outputs": [],
   "source": [
    "data = [1, '5', 'abc', 20, '2']\n",
    "\n",
    "def sum_sqr_num (data):\n",
    "    rez = 0\n",
    "    for el in range(len(data)):\n",
    "        if type(data[el]) == int:\n",
    "            rez += data[el]**2\n",
    "        else:\n",
    "            continue\n",
    "    return(rez)"
   ]
  },
  {
   "cell_type": "code",
   "execution_count": 25,
   "metadata": {},
   "outputs": [
    {
     "data": {
      "text/plain": [
       "401"
      ]
     },
     "execution_count": 25,
     "metadata": {},
     "output_type": "execute_result"
    }
   ],
   "source": [
    "sum_sqr_num(data)"
   ]
  },
  {
   "cell_type": "code",
   "execution_count": 26,
   "metadata": {},
   "outputs": [],
   "source": [
    "fib = lambda n: fib(n - 1) + fib(n - 2) if n > 2 else 1\n"
   ]
  },
  {
   "cell_type": "code",
   "execution_count": 34,
   "metadata": {},
   "outputs": [
    {
     "data": {
      "text/plain": [
       "21"
      ]
     },
     "execution_count": 34,
     "metadata": {},
     "output_type": "execute_result"
    }
   ],
   "source": [
    "fib(8)"
   ]
  },
  {
   "cell_type": "code",
   "execution_count": 209,
   "metadata": {},
   "outputs": [],
   "source": [
    "students_list = [\n",
    "{'name': 'Василий', 'surname': 'Теркин', 'sex': 'м', 'program_exp': True, 'grade': [8, 8, 9, 10, 9], 'exam': 9},\n",
    "{'name': 'Мария', 'surname': 'Павлова', 'sex': 'ж', 'program_exp': True, 'grade': [7, 8, 9, 7, 9], 'exam': 8},\n",
    "{'name': 'Ирина', 'surname': 'Андреева', 'sex': 'ж', 'program_exp': True, 'grade': [10, 9, 8, 10, 10], 'exam': 10},\n",
    "{'name': 'Татьяна', 'surname': 'Сидорова', 'sex': 'ж', 'program_exp': True, 'grade': [7, 8, 8, 9, 8], 'exam': 8},\n",
    "{'name': 'Иван', 'surname': 'Васильев', 'sex': 'ж', 'program_exp': True, 'grade': [9, 8, 9, 6, 9], 'exam': 10},\n",
    "{'name': 'Роман', 'surname': 'Золотарев', 'sex': 'ж', 'program_exp': False, 'grade': [8, 9, 9, 6, 9], 'exam': 10}\n",
    "]\n",
    "\n",
    "#1 - вывести на экран среднюю оценку за все ДЗ по группе и вывести на экран среднюю оценку за экзамен по группе; \n",
    "#2 - вывести среднюю оценку за ДЗ и за экзамен по группе в разрезе пола студентов \n",
    "#3 - вывести среднюю оценку за ДЗ и за экзамен в разрезе наличия опыта в программировании у студентов.\n",
    "\n",
    "def viev_sqr_group_and_exam(students_list):\n",
    "    rez = 0\n",
    "    buf = 0\n",
    "    for el in students_list:\n",
    "        buf += len(el.setdefault('grade'))\n",
    "        for num in el.setdefault('grade'):\n",
    "            rez+= num\n",
    "    rez_group = rez/buf\n",
    "    sqr_exam = 0\n",
    "    for elim in students_list:\n",
    "        sqr_exam += elim.setdefault('exam')\n",
    "    rez_exam = sqr_exam/len(students_list)\n",
    "    return(print(f'1 - Вывести на экран среднюю оценку за все ДЗ по группе и вывести на экран среднюю оценку за экзамен по группе ---> Средняя оценка за все ДЗ по группе = {round(rez_group)}, средняя оценка за экзамен по группе = {round(rez_exam)}'))"
   ]
  },
  {
   "cell_type": "code",
   "execution_count": 210,
   "metadata": {},
   "outputs": [
    {
     "name": "stdout",
     "output_type": "stream",
     "text": [
      "1 - Вывести на экран среднюю оценку за все ДЗ по группе и вывести на экран среднюю оценку за экзамен по группе ---> Средняя оценка за все ДЗ по группе = 8, средняя оценка за экзамен по группе = 9\n"
     ]
    }
   ],
   "source": [
    "viev_sqr_group_and_exam(students_list)"
   ]
  },
  {
   "cell_type": "code",
   "execution_count": 211,
   "metadata": {},
   "outputs": [],
   "source": [
    "students_list = [\n",
    "{'name': 'Василий', 'surname': 'Теркин', 'sex': 'м', 'program_exp': True, 'grade': [8, 8, 9, 10, 9], 'exam': 9},\n",
    "{'name': 'Мария', 'surname': 'Павлова', 'sex': 'ж', 'program_exp': True, 'grade': [7, 8, 9, 7, 9], 'exam': 8},\n",
    "{'name': 'Ирина', 'surname': 'Андреева', 'sex': 'ж', 'program_exp': True, 'grade': [10, 9, 8, 10, 10], 'exam': 10},\n",
    "{'name': 'Татьяна', 'surname': 'Сидорова', 'sex': 'ж', 'program_exp': True, 'grade': [7, 8, 8, 9, 8], 'exam': 8},\n",
    "{'name': 'Иван', 'surname': 'Васильев', 'sex': 'ж', 'program_exp': True, 'grade': [9, 8, 9, 6, 9], 'exam': 10},\n",
    "{'name': 'Роман', 'surname': 'Золотарев', 'sex': 'ж', 'program_exp': False, 'grade': [8, 9, 9, 6, 9], 'exam': 10}\n",
    "]\n",
    "\n",
    "def sex_sqr_group_and_exam(students_list):\n",
    "    rez_men = 0\n",
    "    rez_girl = 0\n",
    "    buf_girl = 0\n",
    "    buf_men = 0\n",
    "    for el in students_list:\n",
    "        for sex_rez in el.setdefault('sex'):\n",
    "            if sex_rez == 'м':\n",
    "                #buf_men = 0\n",
    "                for num_grade_man in el.setdefault('grade'):\n",
    "                    buf_men += 1\n",
    "                    rez_men += num_grade_man\n",
    "                    #print(rez_men/buf_men)\n",
    "            else:\n",
    "                #buf_num += 1\n",
    "                for num_grade_girl in el.setdefault('grade'):\n",
    "                    buf_girl += 1\n",
    "                    rez_girl += num_grade_girl\n",
    "                    #print(rez_girl/buf_girl)\n",
    "    rez_men_exam = 0 \n",
    "    rez_girl_exam = 0\n",
    "    buf_girl_exam = 0\n",
    "    buf_men_exam = 0\n",
    "    for elim in students_list:\n",
    "        for sex_rez in elim.setdefault('sex'):\n",
    "            #buf_men = 0\n",
    "            if sex_rez == 'м':\n",
    "                buf_men_exam +=1\n",
    "                #buf_men += 1\n",
    "                rez_men_exam += elim.setdefault('exam')   \n",
    "                #print(rez_man_exam/buf_men_exam)\n",
    "            else:\n",
    "                buf_girl_exam += 1\n",
    "                rez_girl_exam += elim.setdefault('exam')\n",
    "                #rez_girl_exam += num_grade_girl\n",
    "                #print(rez_girl_exam/buf_girl_exam)\n",
    "    return(print(f'2 - Вывести среднюю оценку за ДЗ и за экзамен по группе в разрезе пола студентов ---> Средняя оценка по мужскому полу за все ДЗ по группе = {rez_men/buf_men}, Средняя оценка по женскому полу за все ДЗ по группе = {rez_girl/buf_girl}\\\n",
    "    средняя оценка у мужского пола за экзамен по группе = {rez_man_exam/buf_men_exam},средняя оценка у женского пола за экзамен по группе = {rez_girl_exam/buf_girl_exam}'))"
   ]
  },
  {
   "cell_type": "code",
   "execution_count": 192,
   "metadata": {},
   "outputs": [
    {
     "name": "stdout",
     "output_type": "stream",
     "text": [
      " Средняя оценка по мужскому полу за все ДЗ по группе = 8.8, Средняя оценка по женскому полу за все ДЗ по группе = 8.36    средняя оценка у мужского пола за экзамен по группе = 9.0,средняя оценка у женского пола за экзамен по группе = 9.2\n"
     ]
    }
   ],
   "source": [
    "sex_sqr_group_and_exam(students_list)"
   ]
  },
  {
   "cell_type": "code",
   "execution_count": 212,
   "metadata": {},
   "outputs": [],
   "source": [
    "students_list = [\n",
    "{'name': 'Василий', 'surname': 'Теркин', 'sex': 'м', 'program_exp': True, 'grade': [8, 8, 9, 10, 9], 'exam': 9},\n",
    "{'name': 'Мария', 'surname': 'Павлова', 'sex': 'ж', 'program_exp': True, 'grade': [7, 8, 9, 7, 9], 'exam': 8},\n",
    "{'name': 'Ирина', 'surname': 'Андреева', 'sex': 'ж', 'program_exp': True, 'grade': [10, 9, 8, 10, 10], 'exam': 10},\n",
    "{'name': 'Татьяна', 'surname': 'Сидорова', 'sex': 'ж', 'program_exp': True, 'grade': [7, 8, 8, 9, 8], 'exam': 8},\n",
    "{'name': 'Иван', 'surname': 'Васильев', 'sex': 'ж', 'program_exp': True, 'grade': [9, 8, 9, 6, 9], 'exam': 10},\n",
    "{'name': 'Роман', 'surname': 'Золотарев', 'sex': 'ж', 'program_exp': False, 'grade': [8, 9, 9, 6, 9], 'exam': 10}\n",
    "]\n",
    "\n",
    "#1 - вывести на экран среднюю оценку за все ДЗ по группе и вывести на экран среднюю оценку за экзамен по группе; \n",
    "#2 - вывести среднюю оценку за ДЗ и за экзамен по группе в разрезе пола студентов \n",
    "#3 - вывести среднюю оценку за ДЗ и за экзамен в разрезе наличия опыта в программировании у студентов.\n",
    "def sex_sqr_program_exp(students_list):\n",
    "    buf_program_exp_true = 0\n",
    "    buf_program_exp_false = 0\n",
    "    program_exp_true_rez = 0\n",
    "    program_exp_false_rez = 0\n",
    "    for el in students_list:\n",
    "        if el.setdefault('program_exp') == 1:\n",
    "            buf_program_exp_true += 1\n",
    "            for program_exp_el in el.setdefault('grade'):\n",
    "                program_exp_true_rez += program_exp_el\n",
    "                #print(program_exp_true_rez/buf_program_exp_true)\n",
    "        else:\n",
    "            buf_program_exp_false += 1\n",
    "            for program_exp_el in el.setdefault('grade'):\n",
    "                program_exp_false_rez += program_exp_el\n",
    "                #print(program_exp_false_rez/buf_program_exp_false)\n",
    "                    \n",
    "    buf_program_exp_true_exam = 0\n",
    "    buf_program_exp_false_exam = 0\n",
    "    program_exp_true_rez_exam = 0\n",
    "    program_exp_false_rez_exam = 0\n",
    "    for elim in students_list:\n",
    "        if elim.setdefault('program_exp') == 1:\n",
    "            buf_program_exp_true_exam += 1\n",
    "            program_exp_true_rez_exam += elim.setdefault('exam')\n",
    "            #print(program_exp_true_rez_exam/buf_program_exp_true_exam)\n",
    "        else:\n",
    "            buf_program_exp_false_exam += 1\n",
    "            program_exp_false_rez_exam +=elim.setdefault('exam')\n",
    "            #print(program_exp_false_rez_exam/buf_program_exp_false_exam)\n",
    "    return(print(f'3 - Вывести среднюю оценку за ДЗ и за экзамен в разрезе наличия опыта в программировании у студентов ---> Средняя оценка по наличию опыта в программировании за все ДЗ по группе = {program_exp_true_rez/buf_program_exp_true}, Средняя оценка без наличия опыта в программировании за все ДЗ по группе = {program_exp_false_rez/buf_program_exp_false}\\\n",
    "    средняя оценка по наличию опыта в программировании за экзамен по группе = {program_exp_true_rez_exam/buf_program_exp_true_exam},средняя оценка без наличия опыта в программировании за экзамен по группе = {program_exp_false_rez_exam/buf_program_exp_false_exam}'))"
   ]
  },
  {
   "cell_type": "code",
   "execution_count": 179,
   "metadata": {},
   "outputs": [
    {
     "name": "stdout",
     "output_type": "stream",
     "text": [
      " Средняя оценка по наличию опыта в программировании за все ДЗ по группе = 42.4, Средняя оценка без наличия опыта в программировании за все ДЗ по группе = 41.0    средняя оценка по наличию опыта в программировании за экзамен по группе = 9.0,средняя оценка без наличия опыта в программировании за экзамен по группе = 10.0\n"
     ]
    }
   ],
   "source": [
    "sex_sqr_program_exp(students_list)"
   ]
  },
  {
   "cell_type": "code",
   "execution_count": 213,
   "metadata": {},
   "outputs": [],
   "source": [
    "students_list = [\n",
    "{'name': 'Василий', 'surname': 'Теркин', 'sex': 'м', 'program_exp': True, 'grade': [8, 8, 9, 10, 9], 'exam': 9},\n",
    "{'name': 'Мария', 'surname': 'Павлова', 'sex': 'ж', 'program_exp': True, 'grade': [7, 8, 9, 7, 9], 'exam': 8},\n",
    "{'name': 'Ирина', 'surname': 'Андреева', 'sex': 'ж', 'program_exp': True, 'grade': [10, 9, 8, 10, 10], 'exam': 10},\n",
    "{'name': 'Татьяна', 'surname': 'Сидорова', 'sex': 'ж', 'program_exp': True, 'grade': [7, 8, 8, 9, 8], 'exam': 8},\n",
    "{'name': 'Иван', 'surname': 'Васильев', 'sex': 'ж', 'program_exp': True, 'grade': [9, 8, 9, 6, 9], 'exam': 10},\n",
    "{'name': 'Роман', 'surname': 'Золотарев', 'sex': 'ж', 'program_exp': False, 'grade': [8, 9, 9, 6, 9], 'exam': 10}\n",
    "]\n",
    "def main():\n",
    "    students_list = [\n",
    "    {'name': 'Василий', 'surname': 'Теркин', 'sex': 'м', 'program_exp': True, 'grade': [8, 8, 9, 10, 9], 'exam': 9},\n",
    "    {'name': 'Мария', 'surname': 'Павлова', 'sex': 'ж', 'program_exp': True, 'grade': [7, 8, 9, 7, 9], 'exam': 8},\n",
    "    {'name': 'Ирина', 'surname': 'Андреева', 'sex': 'ж', 'program_exp': True, 'grade': [10, 9, 8, 10, 10], 'exam': 10},\n",
    "    {'name': 'Татьяна', 'surname': 'Сидорова', 'sex': 'ж', 'program_exp': True, 'grade': [7, 8, 8, 9, 8], 'exam': 8},\n",
    "    {'name': 'Иван', 'surname': 'Васильев', 'sex': 'ж', 'program_exp': True, 'grade': [9, 8, 9, 6, 9], 'exam': 10},\n",
    "    {'name': 'Роман', 'surname': 'Золотарев', 'sex': 'ж', 'program_exp': False, 'grade': [8, 9, 9, 6, 9], 'exam': 10}\n",
    "    ]\n",
    "    viev_sqr_group_and_exam(students_list)\n",
    "    sex_sqr_group_and_exam(students_list)\n",
    "    sex_sqr_program_exp(students_list)"
   ]
  },
  {
   "cell_type": "code",
   "execution_count": 214,
   "metadata": {},
   "outputs": [
    {
     "name": "stdout",
     "output_type": "stream",
     "text": [
      "1 - Вывести на экран среднюю оценку за все ДЗ по группе и вывести на экран среднюю оценку за экзамен по группе ---> Средняя оценка за все ДЗ по группе = 8, средняя оценка за экзамен по группе = 9\n",
      "2 - Вывести среднюю оценку за ДЗ и за экзамен по группе в разрезе пола студентов ---> Средняя оценка по мужскому полу за все ДЗ по группе = 8.8, Средняя оценка по женскому полу за все ДЗ по группе = 8.36    средняя оценка у мужского пола за экзамен по группе = 9.0,средняя оценка у женского пола за экзамен по группе = 9.2\n",
      "3 - Вывести среднюю оценку за ДЗ и за экзамен в разрезе наличия опыта в программировании у студентов ---> Средняя оценка по наличию опыта в программировании за все ДЗ по группе = 42.4, Средняя оценка без наличия опыта в программировании за все ДЗ по группе = 41.0    средняя оценка по наличию опыта в программировании за экзамен по группе = 9.0,средняя оценка без наличия опыта в программировании за экзамен по группе = 10.0\n"
     ]
    }
   ],
   "source": [
    "main()"
   ]
  },
  {
   "cell_type": "code",
   "execution_count": null,
   "metadata": {},
   "outputs": [],
   "source": []
  }
 ],
 "metadata": {
  "kernelspec": {
   "display_name": "Python 3",
   "language": "python",
   "name": "python3"
  },
  "language_info": {
   "codemirror_mode": {
    "name": "ipython",
    "version": 3
   },
   "file_extension": ".py",
   "mimetype": "text/x-python",
   "name": "python",
   "nbconvert_exporter": "python",
   "pygments_lexer": "ipython3",
   "version": "3.7.1"
  }
 },
 "nbformat": 4,
 "nbformat_minor": 2
}
