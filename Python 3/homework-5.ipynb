{
 "cells": [
  {
   "cell_type": "code",
   "execution_count": 25,
   "metadata": {},
   "outputs": [],
   "source": [
    "import numpy as np\n",
    "from scipy.optimize import approx_fprime\n",
    "from scipy.optimize import minimize"
   ]
  },
  {
   "cell_type": "markdown",
   "metadata": {},
   "source": [
    "### Задание 1: \n",
    "Посчитайте частные производные функций в точках\n",
    "(как обычно, необходимо решение на бумажке или в LaTeX и на numpy):"
   ]
  },
  {
   "cell_type": "markdown",
   "metadata": {},
   "source": [
    "1) $f(x,y)=2x^2y^3 + 1/x + y^2x + 7$ в точке $(1,2)$\n",
    "\n",
    "2) $f(x,y)=x^2y - sin(xy) + cos(x^2) + 6y$"
   ]
  },
  {
   "cell_type": "code",
   "execution_count": 26,
   "metadata": {},
   "outputs": [
    {
     "name": "stdout",
     "output_type": "stream",
     "text": [
      "Производная функции в точке x = 1 y = 2 равна 35.00000023841858 28.00000023841858\n"
     ]
    }
   ],
   "source": [
    "def fu(x):\n",
    "    return 2 * x[0]**2 * x[1]**3 + 1/x[0] + (x[1]**2)*x[0] + 7\n",
    "x = [1,2]\n",
    "eps = np.sqrt(np.finfo(float).eps)\n",
    "print(f'Производная функции в точке x = 1 y = 2 равна {approx_fprime(x, fu, [eps, eps])[0]} {approx_fprime(x, fu, [eps, eps])[1]}')"
   ]
  },
  {
   "cell_type": "code",
   "execution_count": 27,
   "metadata": {},
   "outputs": [
    {
     "name": "stdout",
     "output_type": "stream",
     "text": [
      "Производная функции в точке x = 1 y = 2 равна 3.1493518352508545 7.416146874427795\n"
     ]
    }
   ],
   "source": [
    "def fu1(x):\n",
    "    return x[0]**2 * x[1] - np.sin(x[0]*x[1]) + np.cos(x[0]**2) + 6 * x[1]\n",
    "x = [1,2]\n",
    "eps = np.sqrt(np.finfo(float).eps)\n",
    "print(f'Производная функции в точке x = 1 y = 2 равна {approx_fprime(x, fu1, [eps, eps])[0]} {approx_fprime(x, fu1, [eps, eps])[1]}')"
   ]
  },
  {
   "cell_type": "markdown",
   "metadata": {},
   "source": [
    "### Задание 2:\n",
    "\n",
    "Градиентный спуск своими руками"
   ]
  },
  {
   "cell_type": "code",
   "execution_count": 28,
   "metadata": {},
   "outputs": [],
   "source": [
    "def f(x):\n",
    "    return (x[0]**2) + (x[1]**2) "
   ]
  },
  {
   "cell_type": "code",
   "execution_count": 29,
   "metadata": {},
   "outputs": [],
   "source": [
    "x = np.array([100, 200])\n",
    "lr = 0.1"
   ]
  },
  {
   "cell_type": "code",
   "execution_count": 39,
   "metadata": {},
   "outputs": [
    {
     "name": "stdout",
     "output_type": "stream",
     "text": [
      "Optimization terminated successfully.\n",
      "         Current function value: 0.000000\n",
      "         Iterations: 1\n",
      "         Function evaluations: 3\n",
      "[ 3.31391559e-09 -1.82888492e-09]\n"
     ]
    }
   ],
   "source": [
    "#for i in range(100):\n",
    "# Calculate gradient\n",
    "grad = minimize(f, x, method='nelder-mead', options={'xtol': 1e-8, 'disp': True})\n",
    "    \n",
    "# Update x with gradient\n",
    "x = grad.x\n",
    "print(x)"
   ]
  },
  {
   "cell_type": "code",
   "execution_count": 36,
   "metadata": {},
   "outputs": [
    {
     "name": "stdout",
     "output_type": "stream",
     "text": [
      "[ 3.31391559e-09 -1.82888492e-09]\n"
     ]
    }
   ],
   "source": [
    "x = grad.x\n",
    "print(x)"
   ]
  },
  {
   "cell_type": "code",
   "execution_count": 33,
   "metadata": {},
   "outputs": [
    {
     "name": "stdout",
     "output_type": "stream",
     "text": [
      "Минимум достигается в:  [ 3.31391559e-09 -1.82888492e-09]\n",
      "Значение функции в минимуме:  1.4326856592347756e-17\n"
     ]
    }
   ],
   "source": [
    "print(\"Минимум достигается в: \", x)\n",
    "print(\"Значение функции в минимуме: \", f(x))"
   ]
  },
  {
   "cell_type": "markdown",
   "metadata": {},
   "source": [
    "Проверка с помощью встроенной функции numpy: "
   ]
  },
  {
   "cell_type": "code",
   "execution_count": 40,
   "metadata": {},
   "outputs": [
    {
     "name": "stdout",
     "output_type": "stream",
     "text": [
      "[-5.14280051e-09 -5.14280051e-09]\n"
     ]
    }
   ],
   "source": [
    "j = np.gradient(x)\n",
    "print(j)"
   ]
  },
  {
   "cell_type": "code",
   "execution_count": null,
   "metadata": {},
   "outputs": [],
   "source": []
  }
 ],
 "metadata": {
  "kernelspec": {
   "display_name": "Python 3",
   "language": "python",
   "name": "python3"
  },
  "language_info": {
   "codemirror_mode": {
    "name": "ipython",
    "version": 3
   },
   "file_extension": ".py",
   "mimetype": "text/x-python",
   "name": "python",
   "nbconvert_exporter": "python",
   "pygments_lexer": "ipython3",
   "version": "3.7.1"
  }
 },
 "nbformat": 4,
 "nbformat_minor": 2
}
