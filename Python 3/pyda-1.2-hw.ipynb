{
 "cells": [
  {
   "cell_type": "markdown",
   "metadata": {},
   "source": [
    "## Задание 1"
   ]
  },
  {
   "cell_type": "markdown",
   "metadata": {},
   "source": [
    "Дан список с визитами по городам и странам. \n",
    "Напишите код, который возвращает отфильтрованный список geo_logs, содержащий только визиты из России."
   ]
  },
  {
   "cell_type": "code",
   "execution_count": 1,
   "metadata": {},
   "outputs": [],
   "source": [
    "geo_logs = [\n",
    "    {'visit1': ['Москва', 'Россия']},\n",
    "    {'visit2': ['Дели', 'Индия']},\n",
    "    {'visit3': ['Владимир', 'Россия']},\n",
    "    {'visit4': ['Лиссабон', 'Португалия']},\n",
    "    {'visit5': ['Париж', 'Франция']},\n",
    "    {'visit6': ['Лиссабон', 'Португалия']},\n",
    "    {'visit7': ['Тула', 'Россия']},\n",
    "    {'visit8': ['Тула', 'Россия']},\n",
    "    {'visit9': ['Курск', 'Россия']},\n",
    "    {'visit10': ['Архангельск', 'Россия']}\n",
    "]"
   ]
  },
  {
   "cell_type": "code",
   "execution_count": 34,
   "metadata": {},
   "outputs": [
    {
     "data": {
      "text/plain": [
       "list"
      ]
     },
     "execution_count": 34,
     "metadata": {},
     "output_type": "execute_result"
    }
   ],
   "source": [
    "type(geo_logs)"
   ]
  },
  {
   "cell_type": "code",
   "execution_count": 7,
   "metadata": {},
   "outputs": [
    {
     "name": "stdout",
     "output_type": "stream",
     "text": [
      "[{'visit1': ['Москва', 'Россия']}, {'visit3': ['Владимир', 'Россия']}, {'visit7': ['Тула', 'Россия']}, {'visit8': ['Тула', 'Россия']}, {'visit9': ['Курск', 'Россия']}, {'visit10': ['Архангельск', 'Россия']}]\n"
     ]
    }
   ],
   "source": [
    "for visits in range(len(geo_logs)):\n",
    "    #print(visits)\n",
    "    #print(geo_logs[visits])\n",
    "    for country_filter in geo_logs[visits].keys():\n",
    "        #print(country_filter)\n",
    "        #print(geo_logs[visits][country_filter])\n",
    "        if geo_logs[visits][country_filter][1] == \"Россия\":\n",
    "            continue\n",
    "        else:\n",
    "            del(geo_logs[visits])\n",
    "print(geo_logs)\n",
    "#        if visit_country[1] == \"Россия\":\n",
    "         #   continue\n",
    "        #else geo_logs"
   ]
  },
  {
   "cell_type": "code",
   "execution_count": null,
   "metadata": {},
   "outputs": [],
   "source": []
  },
  {
   "cell_type": "markdown",
   "metadata": {},
   "source": [
    "## Задание 2"
   ]
  },
  {
   "cell_type": "markdown",
   "metadata": {},
   "source": [
    "Выведите на экран все уникальные гео-ID из значений словаря ids. Т. е. список вида [213, 15, 54, 119, 98, 35]"
   ]
  },
  {
   "cell_type": "code",
   "execution_count": 9,
   "metadata": {},
   "outputs": [],
   "source": [
    "ids = {'user1': [213, 213, 213, 15, 213], \n",
    "       'user2': [54, 54, 119, 119, 119], \n",
    "       'user3': [213, 98, 98, 35]}"
   ]
  },
  {
   "cell_type": "code",
   "execution_count": 23,
   "metadata": {},
   "outputs": [
    {
     "name": "stdout",
     "output_type": "stream",
     "text": [
      "[213, 213, 213, 15, 213, 54, 54, 119, 119, 119, 213, 98, 98, 35]\n",
      "[98, 35, 15, 213, 54, 119]\n"
     ]
    }
   ],
   "source": [
    "final_list = []\n",
    "for user_id in ids.keys():\n",
    "    #print(ids[user_id])\n",
    "    for component in ids[user_id]:\n",
    "        #print(component)\n",
    "        final_list.append(component)\n",
    "print(final_list)\n",
    "final_rez = set(final_list)\n",
    "print(list(final_rez))"
   ]
  },
  {
   "cell_type": "code",
   "execution_count": null,
   "metadata": {},
   "outputs": [],
   "source": []
  },
  {
   "cell_type": "code",
   "execution_count": null,
   "metadata": {},
   "outputs": [],
   "source": []
  },
  {
   "cell_type": "code",
   "execution_count": null,
   "metadata": {},
   "outputs": [],
   "source": []
  },
  {
   "cell_type": "code",
   "execution_count": null,
   "metadata": {},
   "outputs": [],
   "source": []
  },
  {
   "cell_type": "markdown",
   "metadata": {},
   "source": [
    "## Задание 3"
   ]
  },
  {
   "cell_type": "markdown",
   "metadata": {},
   "source": [
    "Дан список поисковых запросов. Получить распределение количества слов в них. \n",
    "Т. е. поисковых запросов из одного - слова 5%, из двух - 7%, из трех - 3% и т.д."
   ]
  },
  {
   "cell_type": "code",
   "execution_count": 42,
   "metadata": {},
   "outputs": [],
   "source": [
    "queries = [\n",
    "    'смотреть сериалы онлайн',\n",
    "    'новости спорта',\n",
    "    'афиша кино',\n",
    "    'курс доллара',\n",
    "    'сериалы этим летом',\n",
    "    'курс по питону',\n",
    "    'сериалы про спорт',\n",
    "]"
   ]
  },
  {
   "cell_type": "code",
   "execution_count": 73,
   "metadata": {},
   "outputs": [
    {
     "name": "stdout",
     "output_type": "stream",
     "text": [
      "Три слова в = 4 предложениях и два слова в 3 предложениях\n",
      "Поисковых запросов из трех слов = 57 %, поисковых запросов из двух слов = 43 %\n"
     ]
    }
   ],
   "source": [
    "total_len = len(queries)\n",
    "other_list = []\n",
    "#print(total_len)\n",
    "for words in range(len(queries)):\n",
    "    #print(queries[words])\n",
    "    #print(type(queries[words]))\n",
    "    str_split = queries[words].split(' ')\n",
    "    #print(str_split)\n",
    "    #print(len(str_split))\n",
    "    len_str = len(str_split)\n",
    "    other_list.append(len_str)\n",
    "#print(other_list)\n",
    "set_other_list = set(other_list)\n",
    "list_other_list = list(set_other_list)\n",
    "three_words = other_list.count(list_other_list[1])\n",
    "two_words = other_list.count(list_other_list[0])\n",
    "print(f\"Три слова в = {three_words} предложениях и два слова в {two_words} предложениях\")\n",
    "print(f\"Поисковых запросов из трех слов = {round((three_words/total_len)*100)} %, поисковых запросов из двух слов = {round((two_words/total_len)*100)} %\")\n",
    "#    print(f \"Поисковых запросов из двух слов\", {} ,\", из трех слов\", {} )"
   ]
  },
  {
   "cell_type": "code",
   "execution_count": null,
   "metadata": {},
   "outputs": [],
   "source": []
  },
  {
   "cell_type": "code",
   "execution_count": null,
   "metadata": {},
   "outputs": [],
   "source": []
  },
  {
   "cell_type": "markdown",
   "metadata": {},
   "source": [
    "## Задание 4"
   ]
  },
  {
   "cell_type": "markdown",
   "metadata": {},
   "source": [
    "Дана статистика рекламных каналов по объемам продаж. Напишите скрипт, который возвращает название канала с максимальным объемом.\n",
    "Т. е. в данном примере скрипт должен возвращать 'yandex'."
   ]
  },
  {
   "cell_type": "code",
   "execution_count": 104,
   "metadata": {},
   "outputs": [],
   "source": [
    "stats = {'facebook': 55, 'yandex': 120, 'vk': 115, 'google': 99, 'email': 42, 'ok': 98}"
   ]
  },
  {
   "cell_type": "code",
   "execution_count": 114,
   "metadata": {},
   "outputs": [
    {
     "name": "stdout",
     "output_type": "stream",
     "text": [
      "yandex\n"
     ]
    }
   ],
   "source": [
    "first_rez = []\n",
    "for stats_value in stats:\n",
    "    numb = stats[stats_value]\n",
    "    first_rez.append(numb)\n",
    "#print(first_rez)\n",
    "max_rez = max(first_rez)\n",
    "#print(max_rez)\n",
    "#rez = stats.values()\n",
    "#print(rez)\n",
    "\n",
    "for key_, value_ in stats.items():\n",
    "    #print(type(value_))\n",
    "    if value_ == max_rez:\n",
    "        print(key_)\n",
    "    else:\n",
    "        continue"
   ]
  },
  {
   "cell_type": "markdown",
   "metadata": {},
   "source": [
    "## Задание 5"
   ]
  },
  {
   "cell_type": "markdown",
   "metadata": {},
   "source": [
    "Дан поток логов по количеству просмотренных страниц для каждого пользователя. Список отсортирован по ID пользователя. Вам необходимо написать алгоритм, который считает среднее значение просмотров на пользователя. \n",
    "Т. е. надо посчитать отношение суммы всех просмотров к количеству уникальных пользователей."
   ]
  },
  {
   "cell_type": "code",
   "execution_count": 22,
   "metadata": {},
   "outputs": [
    {
     "name": "stdout",
     "output_type": "stream",
     "text": [
      "12\n",
      "4\n",
      "Среднее значение просмотров на пользователя = 33 %\n"
     ]
    }
   ],
   "source": [
    "list_users = []\n",
    "#print(type(list_users))\n",
    "stream = [\n",
    "    '2018-01-01,user1,3',\n",
    "    '2018-01-07,user1,4',\n",
    "    '2018-03-29,user1,1',\n",
    "    '2018-04-04,user1,13',\n",
    "    '2018-01-05,user2,7',\n",
    "    '2018-06-14,user3,4',\n",
    "    '2018-07-02,user3,10',\n",
    "    '2018-03-21,user4,19',\n",
    "    '2018-03-22,user4,4',\n",
    "    '2018-04-22,user4,8',\n",
    "    '2018-05-03,user4,9',\n",
    "    '2018-05-11,user4,11',\n",
    "]\n",
    "\n",
    "# Узнать кол-во уникальных пользователей = a\n",
    "# Узнать кол-во всех пользователей = b\n",
    "# a/b\n",
    "for unic_users in range(len(stream)):\n",
    "    user_verif = stream[unic_users].split(\",\")[1]\n",
    "    list_users.append(user_verif)\n",
    "#print(list_users)\n",
    "all_clients = len(list_users) # Узнать кол-во всех пользователей\n",
    "print(all_clients)\n",
    "single_client = len(set(list_users))\n",
    "#print(single_result)\n",
    "print(single_client) #Узнать кол-во уникальных пользователей\n",
    "result = single_client/all_clients\n",
    "#print(result)\n",
    "print(f\"Среднее значение просмотров на пользователя = {round(result*100)} %\")"
   ]
  },
  {
   "cell_type": "markdown",
   "metadata": {},
   "source": [
    "## Задание 6"
   ]
  },
  {
   "cell_type": "markdown",
   "metadata": {},
   "source": [
    "Дана статистика рекламных кампаний по дням. Напишите алгоритм, который по паре дата-кампания ищет значение численного столбца. \n",
    "Т. е. для даты '2018-01-01' и 'google' нужно получить число 25. \n",
    "Считайте, что все комбинации дата-кампания уникальны."
   ]
  },
  {
   "cell_type": "code",
   "execution_count": 37,
   "metadata": {},
   "outputs": [],
   "source": [
    "stats = [\n",
    "    ['2018-01-01', 'google', 25],\n",
    "    ['2018-01-01', 'yandex', 65],\n",
    "    ['2018-01-01', 'market', 89],\n",
    "    ['2018-01-02', 'google', 574],\n",
    "    ['2018-01-02', 'yandex', 249],\n",
    "    ['2018-01-02', 'market', 994],\n",
    "    ['2018-01-03', 'google', 1843],\n",
    "    ['2018-01-03', 'yandex', 1327],\n",
    "    ['2018-01-03', 'market', 1764],\n",
    "]"
   ]
  },
  {
   "cell_type": "code",
   "execution_count": 77,
   "metadata": {},
   "outputs": [
    {
     "name": "stdout",
     "output_type": "stream",
     "text": [
      "В 2018-01-01 в рекламной компании google количество 25\n",
      "В 2018-01-01 в рекламной компании yandex количество 65\n",
      "В 2018-01-01 в рекламной компании market количество 89\n",
      "В 2018-01-02 в рекламной компании google количество 574\n",
      "В 2018-01-02 в рекламной компании yandex количество 249\n",
      "В 2018-01-02 в рекламной компании market количество 994\n",
      "В 2018-01-03 в рекламной компании google количество 1843\n",
      "В 2018-01-03 в рекламной компании yandex количество 1327\n",
      "В 2018-01-03 в рекламной компании market количество 1764\n"
     ]
    }
   ],
   "source": [
    "for elem in range(len(stats)):\n",
    "    #print(stats[elem])\n",
    "    #number = len(stats[elem])\n",
    "    print(f\"В {stats[elem][0]} в рекламной компании {stats[elem][1]} количество {stats[elem][2]}\")\n",
    "    #result = []\n",
    "    #for el in range(len(stats[elem])):\n",
    "        #print(el)\n",
    "        #result.append(stats[elem][el])\n",
    "    #print(f\"{stats[elem]}\")\n",
    "        #print(f\"{result[el]}\")"
   ]
  },
  {
   "cell_type": "code",
   "execution_count": null,
   "metadata": {},
   "outputs": [],
   "source": []
  }
 ],
 "metadata": {
  "kernelspec": {
   "display_name": "Python 3",
   "language": "python",
   "name": "python3"
  },
  "language_info": {
   "codemirror_mode": {
    "name": "ipython",
    "version": 3
   },
   "file_extension": ".py",
   "mimetype": "text/x-python",
   "name": "python",
   "nbconvert_exporter": "python",
   "pygments_lexer": "ipython3",
   "version": "3.7.1"
  }
 },
 "nbformat": 4,
 "nbformat_minor": 2
}
