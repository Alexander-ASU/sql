{
 "cells": [
  {
   "cell_type": "markdown",
   "metadata": {},
   "source": [
    "# Задание 1\n",
    "Напишите функцию date_range, которая возвращает список дней между датами start_date и end_date. Даты должны вводиться в формате YYYY-MM-DD."
   ]
  },
  {
   "cell_type": "code",
   "execution_count": 7,
   "metadata": {},
   "outputs": [],
   "source": [
    "def  date_range (start_date, end_date):\n",
    "    from datetime import datetime\n",
    "    from datetime import timedelta\n",
    "    start_date_convert = datetime.strptime(start_date,'%Y-%m-%d')\n",
    "    end_date_convert = datetime.strptime(end_date,'%Y-%m-%d')\n",
    "    #print(start_date_convert)\n",
    "    #print(end_date_convert)\n",
    "    list_date = []\n",
    "    while start_date_convert != end_date_convert + timedelta(days=1):\n",
    "        list_date.append(start_date_convert)\n",
    "        #print(list_date)\n",
    "        start_date_convert = start_date_convert + timedelta(days=1)\n",
    "        #print(start_date_convert)\n",
    "    return list_date\n"
   ]
  },
  {
   "cell_type": "code",
   "execution_count": 9,
   "metadata": {},
   "outputs": [
    {
     "data": {
      "text/plain": [
       "[datetime.datetime(2017, 12, 18, 0, 0),\n",
       " datetime.datetime(2017, 12, 19, 0, 0),\n",
       " datetime.datetime(2017, 12, 20, 0, 0),\n",
       " datetime.datetime(2017, 12, 21, 0, 0),\n",
       " datetime.datetime(2017, 12, 22, 0, 0),\n",
       " datetime.datetime(2017, 12, 23, 0, 0),\n",
       " datetime.datetime(2017, 12, 24, 0, 0),\n",
       " datetime.datetime(2017, 12, 25, 0, 0),\n",
       " datetime.datetime(2017, 12, 26, 0, 0),\n",
       " datetime.datetime(2017, 12, 27, 0, 0),\n",
       " datetime.datetime(2017, 12, 28, 0, 0),\n",
       " datetime.datetime(2017, 12, 29, 0, 0),\n",
       " datetime.datetime(2017, 12, 30, 0, 0)]"
      ]
     },
     "execution_count": 9,
     "metadata": {},
     "output_type": "execute_result"
    }
   ],
   "source": [
    "date_range ('2017-12-18', '2017-12-30')"
   ]
  },
  {
   "cell_type": "markdown",
   "metadata": {},
   "source": [
    "# Задание 2\n",
    "Дополните функцию из первого задания проверкой на корректность дат. В случае неверного формата или если start_date > end_date должен возвращаться пустой список."
   ]
  },
  {
   "cell_type": "code",
   "execution_count": 15,
   "metadata": {},
   "outputs": [],
   "source": [
    "def  date_range (start_date, end_date):\n",
    "    from datetime import datetime\n",
    "    from datetime import timedelta\n",
    "    try:\n",
    "        start_date_convert = datetime.strptime(start_date,'%Y-%m-%d')\n",
    "        end_date_convert = datetime.strptime(end_date,'%Y-%m-%d')\n",
    "        if start_date_convert > end_date_convert:\n",
    "            return []\n",
    "        #print(start_date_convert)\n",
    "        #print(end_date_convert)    \n",
    "    except:\n",
    "        print('Вы ввели неверный формат!!! Формат:YYYY-MM-DD')\n",
    "        return []\n",
    "    list_date = []\n",
    "    while start_date_convert != end_date_convert + timedelta(days=1):\n",
    "        list_date.append(start_date_convert)\n",
    "        #print(list_date)\n",
    "        start_date_convert = start_date_convert + timedelta(days=1)\n",
    "        #print(start_date_convert)\n",
    "    return list_date"
   ]
  },
  {
   "cell_type": "code",
   "execution_count": 16,
   "metadata": {},
   "outputs": [
    {
     "data": {
      "text/plain": [
       "[]"
      ]
     },
     "execution_count": 16,
     "metadata": {},
     "output_type": "execute_result"
    }
   ],
   "source": [
    "date_range('2017-12-30', '2017-12-29')"
   ]
  },
  {
   "cell_type": "markdown",
   "metadata": {},
   "source": [
    "# Задание 3\n",
    "Дан поток дат в формате YYYY-MM-DD, в которых встречаются некорректные значения:\n",
    "stream = [‘2018-04-02’, ‘2018-02-29’, ‘2018-19-02’]\n",
    "Напишите функцию, которая проверяет эти даты на корректность. Т. е. для каждой даты возвращает True (дата корректна) или False (некорректная дата)."
   ]
  },
  {
   "cell_type": "code",
   "execution_count": 22,
   "metadata": {},
   "outputs": [],
   "source": [
    "def  date_range (stream):\n",
    "    from datetime import datetime\n",
    "    from datetime import timedelta\n",
    "    stream = ['2018-04-02', '2018-02-29', '2018-19-02']\n",
    "    for date in stream:\n",
    "        try:\n",
    "            date_convert = datetime.strptime(date,'%Y-%m-%d')\n",
    "            print(f' {date_convert} --> Статус: Дата корректна')\n",
    "        except:\n",
    "            print(f' {date_convert} --> Статус: Дата некорректна')\n",
    "    return"
   ]
  },
  {
   "cell_type": "code",
   "execution_count": 23,
   "metadata": {},
   "outputs": [
    {
     "name": "stdout",
     "output_type": "stream",
     "text": [
      " 2018-04-02 00:00:00 --> Статус: Дата корректна\n",
      " 2018-04-02 00:00:00 --> Статус: Дата некорректна\n",
      " 2018-04-02 00:00:00 --> Статус: Дата некорректна\n"
     ]
    }
   ],
   "source": [
    "date_range ( ['2018-04-02', '2018-02-29', '2018-19-02'])"
   ]
  },
  {
   "cell_type": "markdown",
   "metadata": {},
   "source": [
    "# Задание 5\n",
    "В последнем примере поиска по словарю мы использовали 3 столбца. Напишите функцию, которая формирует словарь для поиска по n столбцам."
   ]
  },
  {
   "cell_type": "code",
   "execution_count": 23,
   "metadata": {},
   "outputs": [],
   "source": [
    "def find_dict (n):\n",
    "    stats_dict = {}\n",
    "    with open('stats.csv') as f:\n",
    "        for line in f:\n",
    "            line = line.strip().split(',')\n",
    "            stats_dict[tuple(line[:n])] = line[n]\n",
    "        #cost = stats_dict[n]\n",
    "       # print(cost)\n",
    "    for key, value in stats_dict.items():\n",
    "        print(key, value)\n",
    "        break\n"
   ]
  },
  {
   "cell_type": "code",
   "execution_count": 26,
   "metadata": {},
   "outputs": [
    {
     "name": "stdout",
     "output_type": "stream",
     "text": [
      "('14', '26376', '3') 13301\n"
     ]
    }
   ],
   "source": [
    "find_dict(3)"
   ]
  },
  {
   "cell_type": "code",
   "execution_count": 28,
   "metadata": {},
   "outputs": [],
   "source": []
  },
  {
   "cell_type": "code",
   "execution_count": null,
   "metadata": {},
   "outputs": [],
   "source": []
  },
  {
   "cell_type": "code",
   "execution_count": null,
   "metadata": {},
   "outputs": [],
   "source": []
  }
 ],
 "metadata": {
  "kernelspec": {
   "display_name": "Python 3",
   "language": "python",
   "name": "python3"
  },
  "language_info": {
   "codemirror_mode": {
    "name": "ipython",
    "version": 3
   },
   "file_extension": ".py",
   "mimetype": "text/x-python",
   "name": "python",
   "nbconvert_exporter": "python",
   "pygments_lexer": "ipython3",
   "version": "3.7.1"
  }
 },
 "nbformat": 4,
 "nbformat_minor": 2
}
