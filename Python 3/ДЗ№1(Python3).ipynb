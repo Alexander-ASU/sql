{
 "cells": [
  {
   "cell_type": "markdown",
   "metadata": {},
   "source": [
    "# Задание №1\n",
    "\n",
    "Даны 2 строки long_phrase и short_phrase. Напишите код, который проверяет действительно ли длинная фраза long_phrase длиннее короткой short_phrase. И выводит True или False в зависимости от результата сравнения.\n",
    "\n",
    "long_phrase = 'Насколько проще было бы писать программы, если бы не заказчики’\n",
    "short_phrase = ‘640Кб должно хватить для любых задач. Билл Гейтс (по легенде)’\n",
    "    "
   ]
  },
  {
   "cell_type": "code",
   "execution_count": null,
   "metadata": {},
   "outputs": [],
   "source": [
    "long_phrase = 'Насколько проще было бы писать программы, если бы не заказчики'\n",
    "len_long_phrase = len(long_phrase)\n",
    "short_phrase = '640Кб должно хватить для любых задач. Билл Гейтс (по легенде)'\n",
    "len_short_phrase = len(short_phrase)\n",
    "print(len_long_phrase > len_short_phrase)"
   ]
  },
  {
   "cell_type": "code",
   "execution_count": 8,
   "metadata": {},
   "outputs": [
    {
     "name": "stdout",
     "output_type": "stream",
     "text": [
      "False\n"
     ]
    }
   ],
   "source": [
    "long_phrase = 'Насколько проще было бы писать программы, если бы не заказчики'\n",
    "len_long_phrase = len(long_phrase)\n",
    "short_phrase = '640Кб должно хватить для любых задач. Билл Гейтс (по легенде)!!!!!'\n",
    "len_short_phrase = len(short_phrase)\n",
    "print(len_long_phrase > len_short_phrase)"
   ]
  },
  {
   "cell_type": "markdown",
   "metadata": {},
   "source": [
    "# Задание №2\n",
    "Дано значение объема файла в байтах. Напишите перевод этого значения в мегабайты в формате:\n",
    "‘Объем файла равен 213.68Mb’"
   ]
  },
  {
   "cell_type": "code",
   "execution_count": 10,
   "metadata": {},
   "outputs": [
    {
     "name": "stdout",
     "output_type": "stream",
     "text": [
      "224059719.68\n"
     ]
    }
   ],
   "source": [
    "value_file_bayt = 213.68*1024*1024\n",
    "print(value_file_bayt)"
   ]
  },
  {
   "cell_type": "code",
   "execution_count": 22,
   "metadata": {},
   "outputs": [
    {
     "name": "stdout",
     "output_type": "stream",
     "text": [
      "Объем файла равен 213.68 Mb\n"
     ]
    }
   ],
   "source": [
    "value_file_mb = value_file_bayt/1024/1024\n",
    "#print(value_file_mb)\n",
    "print('Объем файла равен '+str(value_file_mb)+' Mb')"
   ]
  },
  {
   "cell_type": "markdown",
   "metadata": {},
   "source": [
    "# Задание №3\n",
    "Разработать приложение для определения знака зодиака по дате рождения.\n",
    "Пример:\n",
    "\n",
    "Введите месяц: март\n",
    "Введите число: 6\n",
    "Вывод:\n",
    "Рыбы"
   ]
  },
  {
   "cell_type": "code",
   "execution_count": 16,
   "metadata": {},
   "outputs": [],
   "source": [
    "import datetime"
   ]
  },
  {
   "cell_type": "code",
   "execution_count": 17,
   "metadata": {},
   "outputs": [],
   "source": [
    "#Козерог\n",
    "time_limit_kozerog_start = datetime.date(2018, 12, 22)\n",
    "time_limit_kozerog_stop = datetime.date(2019, 1, 19)\n",
    "#Водолей\n",
    "time_limit_vodoley_start = datetime.date(2019, 1, 20)\n",
    "time_limit_vodoley_stop = datetime.date(2019, 2, 19)\n",
    "#Рыбы\n",
    "time_limit_fish_start = datetime.date(2019, 2, 20)\n",
    "time_limit_fish_stop = datetime.date(2019, 3, 21)\n",
    "#Овен\n",
    "time_limit_oven_start = datetime.date(2019, 3, 22)\n",
    "time_limit_oven_stop = datetime.date(2019, 4, 21)\n",
    "#Телец\n",
    "time_limit_telec_start = datetime.date(2019, 4, 22)\n",
    "time_limit_telec_stop = datetime.date(2019, 5, 21)\n",
    "#Близнецы\n",
    "time_limit_bliznec_start = datetime.date(2019, 5, 22)\n",
    "time_limit_bliznec_stop = datetime.date(2019, 6, 21)\n",
    "#Рак\n",
    "time_limit_crab_start = datetime.date(2019, 6, 22)\n",
    "time_limit_crab_stop = datetime.date(2019, 7, 21)\n",
    "#Лев\n",
    "time_limit_lion_start = datetime.date(2019, 7, 22)\n",
    "time_limit_lion_stop = datetime.date(2019, 8, 21)\n",
    "#Девы\n",
    "time_limit_girl_start = datetime.date(2019, 8, 22)\n",
    "time_limit_girl_stop = datetime.date(2019, 9, 21)\n",
    "#Весы\n",
    "time_limit_scale_start = datetime.date(2019, 9, 22)\n",
    "time_limit_scale_stop = datetime.date(2019, 10, 21)\n",
    "#Скорпион\n",
    "time_limit_scorpion_start = datetime.date(2019, 10, 22)\n",
    "time_limit_scorpion_stop = datetime.date(2019, 11, 20)\n",
    "#Стрелец\n",
    "time_limit_sagittarius_start = datetime.date(2019, 11, 21)\n",
    "time_limit_sagittarius_stop = datetime.date(2019, 12, 21)"
   ]
  },
  {
   "cell_type": "code",
   "execution_count": 18,
   "metadata": {},
   "outputs": [
    {
     "name": "stdout",
     "output_type": "stream",
     "text": [
      "Введите дату в формате ГГГГ,MM,ДД: 2019,02,02\n"
     ]
    }
   ],
   "source": [
    "time_period = input('Введите дату в формате ГГГГ,MM,ДД: ')"
   ]
  },
  {
   "cell_type": "code",
   "execution_count": 19,
   "metadata": {},
   "outputs": [
    {
     "name": "stdout",
     "output_type": "stream",
     "text": [
      "2\n"
     ]
    }
   ],
   "source": [
    "time_period_list = time_period.split(',')\n",
    "#print(time_period_list)\n",
    "time_period_year = int(time_period_list[0])\n",
    "#print(time_period_year)\n",
    "time_period_month = int(time_period_list[1])\n",
    "print(time_period_month)\n",
    "time_period_day = int(time_period_list[2])\n",
    "#print(time_period_day)\n",
    "\n",
    "time_period_convert = datetime.date(time_period_year, time_period_month, time_period_day)\n",
    "#print(time_period_convert)"
   ]
  },
  {
   "cell_type": "code",
   "execution_count": 20,
   "metadata": {},
   "outputs": [
    {
     "name": "stdout",
     "output_type": "stream",
     "text": [
      "Вы Водолей\n"
     ]
    }
   ],
   "source": [
    "if time_limit_kozerog_start < time_period_convert < time_limit_kozerog_stop:\n",
    "    print('Вы Козерог')\n",
    "elif time_limit_vodoley_start < time_period_convert < time_limit_vodoley_stop:\n",
    "        print('Вы Водолей')\n",
    "elif time_limit_fish_start < time_period_convert < time_limit_fish_stop:\n",
    "        print('Вы Рыба')\n",
    "elif time_limit_oven_start < time_period_convert < time_limit_oven_stop:\n",
    "        print('Вы Овен')\n",
    "elif time_limit_telec_start < time_period_convert < time_limit_telec_stop:\n",
    "        print('Вы Телец')\n",
    "elif time_limit_bliznec_start < time_period_convert < time_limit_bliznec_stop:\n",
    "        print('Вы Близнец')        \n",
    "elif time_limit_crab_start < time_period_convert < time_limit_crab_stop:\n",
    "        print('Вы Краб') \n",
    "elif time_limit_lion_start < time_period_convert < time_limit_lion_stop:\n",
    "        print('Вы Лев') \n",
    "elif time_limit_girl_start < time_period_convert < time_limit_girl_stop:\n",
    "        print('Вы Дева')\n",
    "elif time_limit_scale_start < time_period_convert < time_limit_scale_stop:\n",
    "        print('Вы Весы')\n",
    "elif time_limit_scorpion_start < time_period_convert < time_limit_scorpion_stop:\n",
    "        print('Вы Скорпион')\n",
    "elif time_limit_sagittarius_start < time_period_convert < time_limit_sagittarius_stop:\n",
    "        print('Вы Стрелец')"
   ]
  },
  {
   "cell_type": "code",
   "execution_count": 21,
   "metadata": {},
   "outputs": [],
   "source": [
    "#time_period = input('Введите дату в формате ГГГГ,MM,ДД: ')"
   ]
  },
  {
   "cell_type": "code",
   "execution_count": 22,
   "metadata": {},
   "outputs": [],
   "source": [
    "#print(time_period)\n",
    "#type(time_period)"
   ]
  },
  {
   "cell_type": "code",
   "execution_count": 23,
   "metadata": {},
   "outputs": [],
   "source": [
    "#time_period_list = time_period.split(',')\n",
    "#print(time_period_list)\n",
    "#time_period_year = int(time_period_list[0])\n",
    "#print(time_period_year)\n",
    "#time_period_month = int(time_period_list[1])\n",
    "#print(time_period_month)\n",
    "#time_period_day = int(time_period_list[2])\n",
    "#print(time_period_day)"
   ]
  },
  {
   "cell_type": "code",
   "execution_count": 24,
   "metadata": {},
   "outputs": [],
   "source": [
    "#time_period_convert = datetime.date(time_period_year, time_period_month, time_period_day)\n",
    "#print(time_period_convert)"
   ]
  },
  {
   "cell_type": "markdown",
   "metadata": {},
   "source": [
    "# Задание №4\n",
    "Нужно разработать приложение для финансового планирования. Приложение учитывает сколько уходит на ипотеку, \"на жизнь\" и сколько нужно отложить на пенсию. Пользователь вводит:\n",
    "\n",
    "заработанную плату в месяц.\n",
    "сколько процентов от ЗП уходит на ипотеку.\n",
    "сколько процентов от ЗП уходит \"на жизнь\".\n",
    "сколько раз приходит премия в год.\n",
    "Остальная часть заработанной платы откладывается на пенсию.\n",
    "\n",
    "Также пользователю приходит премия в размере зарплаты, от которой половина уходит на отпуск, а вторая половина откладывается.\n",
    "\n",
    "Программа должна учитывать сколько премий было в год.\n",
    "\n",
    "Нужно вывести сколько денег тратит пользователь на ипотеку и сколько он накопит за год.\n",
    "\n",
    "Пример:\n",
    "\n",
    "Введите заработанную плату в месяц: 100000\n",
    "\n",
    "Введите сколько процентов уходит на ипотеку: 30\n",
    "\n",
    "Введите сколько процентов уходит на жизнь: 50\n",
    "\n",
    "Введите количество премий за год: 2\n",
    "\n",
    "Вывод: На ипотеку было потрачено: 360000 рублей Было накоплено: 340000 рублей"
   ]
  },
  {
   "cell_type": "code",
   "execution_count": 25,
   "metadata": {},
   "outputs": [
    {
     "name": "stdout",
     "output_type": "stream",
     "text": [
      "Введите заработанную плату в месяц: 100000\n",
      "Введите сколько процентов уходит на ипотеку: 30\n",
      "Введите сколько процентов уходит на жизнь: 50\n",
      "Введите количество премий в год: 2\n"
     ]
    }
   ],
   "source": [
    "staffing = int(input(\"Введите заработанную плату в месяц: \"))\n",
    "credit_percent = int(input(\"Введите сколько процентов уходит на ипотеку: \"))\n",
    "cash_life_percent = int(input(\"Введите сколько процентов уходит на жизнь: \"))\n",
    "bonus = int(input(\"Введите количество премий в год: \"))\n",
    "#formula_credit = staffing * credit\n",
    "#formula_cash_life = staffing * cash_life\n",
    "#formula_detail = (staffing * 12 + bonus) - (formula_cash_life + formula_credit)"
   ]
  },
  {
   "cell_type": "code",
   "execution_count": 31,
   "metadata": {},
   "outputs": [
    {
     "name": "stdout",
     "output_type": "stream",
     "text": [
      "360000.0\n",
      "600000.0\n",
      "340000.0\n"
     ]
    }
   ],
   "source": [
    "formula_credit = staffing * (credit_percent / 100)*12\n",
    "print(formula_credit)\n",
    "formula_cash_life = staffing * (cash_life_percent / 100)*12\n",
    "print(formula_cash_life)\n",
    "formula_detail = (staffing * 12 + (bonus/2)*staffing) - (formula_cash_life + formula_credit)\n",
    "print(formula_detail)"
   ]
  },
  {
   "cell_type": "code",
   "execution_count": 35,
   "metadata": {},
   "outputs": [
    {
     "name": "stdout",
     "output_type": "stream",
     "text": [
      "На ипотеку было потрачено: 360000.0 рублей Было накоплено: 340000.0 рублей\n"
     ]
    }
   ],
   "source": [
    "print(\"На ипотеку было потрачено: \" + str(formula_credit) + \" рублей Было накоплено: \"+ str(formula_detail) + \" рублей\" )"
   ]
  },
  {
   "cell_type": "code",
   "execution_count": null,
   "metadata": {},
   "outputs": [],
   "source": []
  }
 ],
 "metadata": {
  "kernelspec": {
   "display_name": "Python 3",
   "language": "python",
   "name": "python3"
  },
  "language_info": {
   "codemirror_mode": {
    "name": "ipython",
    "version": 3
   },
   "file_extension": ".py",
   "mimetype": "text/x-python",
   "name": "python",
   "nbconvert_exporter": "python",
   "pygments_lexer": "ipython3",
   "version": "3.7.1"
  }
 },
 "nbformat": 4,
 "nbformat_minor": 2
}
